{
 "cells": [
  {
   "cell_type": "code",
   "execution_count": null,
   "metadata": {},
   "outputs": [
    {
     "name": "stdout",
     "output_type": "stream",
     "text": [
      "0   2023-04-01\n",
      "1   2023-05-01\n",
      "2   2023-05-15\n",
      "3   2023-06-01\n",
      "4          NaT\n",
      "dtype: datetime64[ns]\n",
      "0   2023-04-01\n",
      "1   2023-05-01\n",
      "2   2023-05-15\n",
      "3   2023-06-01\n",
      "4          NaT\n",
      "dtype: datetime64[ns]\n"
     ]
    }
   ],
   "source": [
    "import pandas as pd\n",
    "\n",
    "import pandas as pd\n",
    "\n",
    "# Example Series\n",
    "\n",
    "death_dates = pd.DataFrame({\n",
    "    \"hospital_deathtime\": pd.to_datetime(hospital_deathtime, errors=\"coerce\"),\n",
    "    \"known_hospital_deathtime\": pd.to_datetime(known_hospital_deathtime, errors=\"coerce\"),\n",
    "    \"insurance_claim_deathtime\": pd.to_datetime(insurance_claim_deathtime, errors=\"coerce\")\n",
    "})\n",
    "max_death_date = death_dates.max(axis=1, skipna=True)\n",
    "max_death_date = max_death_date.where(~max_death_date.isna(), None)\n",
    "\n",
    "\n",
    "print(max_death_date)\n",
    "death_date = pd.to_datetime(max_death_date, errors='coerce')\n",
    "\n",
    "# Display the resulting Series\n",
    "print(death_date)"
   ]
  },
  {
   "cell_type": "code",
   "execution_count": 16,
   "metadata": {},
   "outputs": [
    {
     "data": {
      "text/html": [
       "<div>\n",
       "<style scoped>\n",
       "    .dataframe tbody tr th:only-of-type {\n",
       "        vertical-align: middle;\n",
       "    }\n",
       "\n",
       "    .dataframe tbody tr th {\n",
       "        vertical-align: top;\n",
       "    }\n",
       "\n",
       "    .dataframe thead th {\n",
       "        text-align: right;\n",
       "    }\n",
       "</style>\n",
       "<table border=\"1\" class=\"dataframe\">\n",
       "  <thead>\n",
       "    <tr style=\"text-align: right;\">\n",
       "      <th></th>\n",
       "      <th>dod_hospital</th>\n",
       "      <th>dod_ssn</th>\n",
       "    </tr>\n",
       "  </thead>\n",
       "  <tbody>\n",
       "    <tr>\n",
       "      <th>0</th>\n",
       "      <td>2165-08-12 00:00:00</td>\n",
       "      <td>2165-08-12 00:00:00</td>\n",
       "    </tr>\n",
       "    <tr>\n",
       "      <th>1</th>\n",
       "      <td>2126-08-28 00:00:00</td>\n",
       "      <td>NaN</td>\n",
       "    </tr>\n",
       "    <tr>\n",
       "      <th>2</th>\n",
       "      <td>2125-10-07 00:00:00</td>\n",
       "      <td>2125-10-07 00:00:00</td>\n",
       "    </tr>\n",
       "    <tr>\n",
       "      <th>3</th>\n",
       "      <td>NaN</td>\n",
       "      <td>2152-09-12 00:00:00</td>\n",
       "    </tr>\n",
       "    <tr>\n",
       "      <th>4</th>\n",
       "      <td>2163-05-15 00:00:00</td>\n",
       "      <td>2163-05-15 00:00:00</td>\n",
       "    </tr>\n",
       "    <tr>\n",
       "      <th>...</th>\n",
       "      <td>...</td>\n",
       "      <td>...</td>\n",
       "    </tr>\n",
       "    <tr>\n",
       "      <th>95</th>\n",
       "      <td>2114-02-20 00:00:00</td>\n",
       "      <td>2114-02-20 00:00:00</td>\n",
       "    </tr>\n",
       "    <tr>\n",
       "      <th>96</th>\n",
       "      <td>2178-05-15 00:00:00</td>\n",
       "      <td>2178-05-15 00:00:00</td>\n",
       "    </tr>\n",
       "    <tr>\n",
       "      <th>97</th>\n",
       "      <td>NaN</td>\n",
       "      <td>2124-01-29 00:00:00</td>\n",
       "    </tr>\n",
       "    <tr>\n",
       "      <th>98</th>\n",
       "      <td>2182-08-03 00:00:00</td>\n",
       "      <td>NaN</td>\n",
       "    </tr>\n",
       "    <tr>\n",
       "      <th>99</th>\n",
       "      <td>2171-04-14 00:00:00</td>\n",
       "      <td>NaN</td>\n",
       "    </tr>\n",
       "  </tbody>\n",
       "</table>\n",
       "<p>100 rows × 2 columns</p>\n",
       "</div>"
      ],
      "text/plain": [
       "           dod_hospital              dod_ssn\n",
       "0   2165-08-12 00:00:00  2165-08-12 00:00:00\n",
       "1   2126-08-28 00:00:00                  NaN\n",
       "2   2125-10-07 00:00:00  2125-10-07 00:00:00\n",
       "3                   NaN  2152-09-12 00:00:00\n",
       "4   2163-05-15 00:00:00  2163-05-15 00:00:00\n",
       "..                  ...                  ...\n",
       "95  2114-02-20 00:00:00  2114-02-20 00:00:00\n",
       "96  2178-05-15 00:00:00  2178-05-15 00:00:00\n",
       "97                  NaN  2124-01-29 00:00:00\n",
       "98  2182-08-03 00:00:00                  NaN\n",
       "99  2171-04-14 00:00:00                  NaN\n",
       "\n",
       "[100 rows x 2 columns]"
      ]
     },
     "execution_count": 16,
     "metadata": {},
     "output_type": "execute_result"
    }
   ],
   "source": [
    "PATIENTS = pd.read_csv(\"MIMIC_data/PATIENTS.csv\")\n",
    "dod_hospital = PATIENTS[\"dod_hosp\"]\n",
    "dod_ssn = PATIENTS[\"dod_ssn\"]\n",
    "\n",
    "\n",
    "df = pd.DataFrame({\"dod_hospital\":dod_hospital,\n",
    "                   \"dod_ssn\":dod_ssn})\n",
    "\n",
    "df"
   ]
  },
  {
   "cell_type": "code",
   "execution_count": 14,
   "metadata": {},
   "outputs": [
    {
     "name": "stdout",
     "output_type": "stream",
     "text": [
      "    source_code  source_concept_id source_vocabulary_id  \\\n",
      "0          7861                  0                 icd9   \n",
      "1          4928                  0                 icd9   \n",
      "2         70724                  0                 icd9   \n",
      "3          5722                  0                 icd9   \n",
      "4          4549                  0                 icd9   \n",
      "..          ...                ...                  ...   \n",
      "556       V4581                  0                 icd9   \n",
      "557       80375                  0                 icd9   \n",
      "558       E8348                  0                 icd9   \n",
      "559       85225                  0                 icd9   \n",
      "560       85306                  0                 icd9   \n",
      "\n",
      "                               source_code_description  target_concept_id  \\\n",
      "0                                              Stridor             253321   \n",
      "1                                      Other emphysema            4050734   \n",
      "2                             Pressure ulcer, stage IV           37160747   \n",
      "3                               Hepatic encephalopathy            4029488   \n",
      "4                          Asymptomatic varicose veins             312349   \n",
      "..                                                 ...                ...   \n",
      "556                        Aortocoronary bypass status             312922   \n",
      "557  Other open skull fracture with subarachnoid, s...             437106   \n",
      "558  Other fall from one level to another in water ...            4068576   \n",
      "559  Subdural hemorrhage following injury without m...             437106   \n",
      "560  Other and unspecified intracranial hemorrhage ...             433624   \n",
      "\n",
      "    target_vocabulary_id valid_start_date valid_end_date  invalid_reason  \n",
      "0                 SNOMED       1970-01-01     2099-12-31             NaN  \n",
      "1                 SNOMED       1970-01-01     2099-12-31             NaN  \n",
      "2                 SNOMED       1970-01-01     2099-12-31             NaN  \n",
      "3                 SNOMED       1970-01-01     2099-12-31             NaN  \n",
      "4                 SNOMED       1970-01-01     2099-12-31             NaN  \n",
      "..                   ...              ...            ...             ...  \n",
      "556               SNOMED       1970-01-01     2099-12-31             NaN  \n",
      "557               SNOMED       1970-01-01     2099-12-31             NaN  \n",
      "558               SNOMED       1970-01-01     2099-12-31             NaN  \n",
      "559               SNOMED       1970-01-01     2099-12-31             NaN  \n",
      "560               SNOMED       1970-01-01     2099-12-31             NaN  \n",
      "\n",
      "[561 rows x 9 columns]\n"
     ]
    }
   ],
   "source": [
    "import pandas as pd \n",
    "from pathlib import Path\n",
    "\n",
    "\n",
    "def generate_concept_map(concept_list):\n",
    "\n",
    "    concept_map_total = pd.read_csv(Path(\"concept_map/\" + concept_list[0] + \".csv\"))\n",
    "    print(concept_map_total)\n",
    "\n",
    "    for concept in concept_list[1:]:\n",
    "        concept_map = pd.read_csv(Path(\"concept_map/\" + concept + \".csv\"))\n",
    "\n",
    "        concept_map_total = pd.concat([concept_map_total, concept_map], ignore_index=True)\n",
    "\n",
    "    concept_map_total.to_csv(Path(\"concept_map/concept_map_total.csv\"), index=False)\n",
    "\n",
    "    return concept_map_total\n",
    "\n",
    "\n",
    "concept_list = [\"diagnoses\",\"drug\",\"gender\",\"measurements\",\"procedures_icd\"]\n",
    "\n",
    "concept_map_total = generate_concept_map(concept_list)"
   ]
  },
  {
   "cell_type": "code",
   "execution_count": 31,
   "metadata": {},
   "outputs": [
    {
     "data": {
      "text/plain": [
       "0       2164-10-23 21:09:00\n",
       "1       2164-10-23 21:09:00\n",
       "2       2164-10-23 21:09:00\n",
       "3       2164-10-23 21:09:00\n",
       "4       2164-10-23 21:09:00\n",
       "               ...         \n",
       "1756    2170-12-15 03:14:00\n",
       "1757    2170-12-15 03:14:00\n",
       "1758    2170-12-15 03:14:00\n",
       "1759    2170-12-15 03:14:00\n",
       "1760    2170-12-15 03:14:00\n",
       "Name: hadm_id, Length: 1761, dtype: object"
      ]
     },
     "execution_count": 31,
     "metadata": {},
     "output_type": "execute_result"
    }
   ],
   "source": [
    "def dates_from_hadm_id(hadm_ids):\n",
    "    ADMISSIONS = pd.read_csv(\"MIMIC_data/ADMISSIONS.csv\")\n",
    "    return hadm_ids.map(ADMISSIONS.set_index(\"hadm_id\")[\"admittime\"])\n",
    "\n",
    "\n",
    "hadm_ids = pd.read_csv(\"MIMIC_data/DIAGNOSES_ICD.csv\")[\"hadm_id\"]\n",
    "dates_from_hadm_id(hadm_ids)"
   ]
  },
  {
   "cell_type": "code",
   "execution_count": 20,
   "metadata": {},
   "outputs": [],
   "source": [
    "\n",
    "def read_table(table_name):\n",
    "    \"\"\"Read a table from a CSV file dynamically.\"\"\"\n",
    "    file_path = DATA_PATH / f\"{table_name}.csv\"\n",
    "    try:\n",
    "        if file_path.exists():\n",
    "            return pd.read_csv(file_path)\n",
    "        else:\n",
    "            raise FileNotFoundError(f\"File not found: {file_path}\")\n",
    "    except Exception as e:\n",
    "        print(f\"Error reading table: {e}\")\n",
    "        return None"
   ]
  },
  {
   "cell_type": "code",
   "execution_count": null,
   "metadata": {},
   "outputs": [
    {
     "ename": "FileNotFoundError",
     "evalue": "[Errno 2] No such file or directory: 'MIMIC_data/ADMISSIONS.cdv'",
     "output_type": "error",
     "traceback": [
      "\u001b[0;31m---------------------------------------------------------------------------\u001b[0m",
      "\u001b[0;31mFileNotFoundError\u001b[0m                         Traceback (most recent call last)",
      "\u001b[0;32m/tmp/ipykernel_16713/1349482568.py\u001b[0m in \u001b[0;36m<module>\u001b[0;34m\u001b[0m\n\u001b[1;32m      1\u001b[0m \u001b[0mhadm_ids\u001b[0m \u001b[0;34m=\u001b[0m \u001b[0mpd\u001b[0m\u001b[0;34m.\u001b[0m\u001b[0mread_csv\u001b[0m\u001b[0;34m(\u001b[0m\u001b[0;34m\"MIMIC_data/ADMISSIONS.csv\"\u001b[0m\u001b[0;34m)\u001b[0m\u001b[0;34m[\u001b[0m\u001b[0;34m\"hadm_id\"\u001b[0m\u001b[0;34m]\u001b[0m\u001b[0;34m\u001b[0m\u001b[0;34m\u001b[0m\u001b[0m\n\u001b[0;32m----> 2\u001b[0;31m \u001b[0mdates_from_hadm_id\u001b[0m\u001b[0;34m(\u001b[0m\u001b[0mhadm_ids\u001b[0m\u001b[0;34m)\u001b[0m\u001b[0;34m\u001b[0m\u001b[0;34m\u001b[0m\u001b[0m\n\u001b[0m",
      "\u001b[0;32m/tmp/ipykernel_16713/10012608.py\u001b[0m in \u001b[0;36mdates_from_hadm_id\u001b[0;34m(hadm_ids)\u001b[0m\n\u001b[1;32m      1\u001b[0m \u001b[0;32mdef\u001b[0m \u001b[0mdates_from_hadm_id\u001b[0m\u001b[0;34m(\u001b[0m\u001b[0mhadm_ids\u001b[0m\u001b[0;34m)\u001b[0m\u001b[0;34m:\u001b[0m\u001b[0;34m\u001b[0m\u001b[0;34m\u001b[0m\u001b[0m\n\u001b[0;32m----> 2\u001b[0;31m     \u001b[0mADMISSIONS\u001b[0m \u001b[0;34m=\u001b[0m \u001b[0mpd\u001b[0m\u001b[0;34m.\u001b[0m\u001b[0mread_csv\u001b[0m\u001b[0;34m(\u001b[0m\u001b[0;34m\"MIMIC_data/ADMISSIONS.cdv\"\u001b[0m\u001b[0;34m)\u001b[0m\u001b[0;34m\u001b[0m\u001b[0;34m\u001b[0m\u001b[0m\n\u001b[0m\u001b[1;32m      3\u001b[0m     \u001b[0;32mreturn\u001b[0m \u001b[0mhadm_ids\u001b[0m\u001b[0;34m.\u001b[0m\u001b[0mmap\u001b[0m\u001b[0;34m(\u001b[0m\u001b[0mADMISSIONS\u001b[0m\u001b[0;34m.\u001b[0m\u001b[0mset_index\u001b[0m\u001b[0;34m(\u001b[0m\u001b[0;34m\"hadm_id\"\u001b[0m\u001b[0;34m)\u001b[0m\u001b[0;34m[\u001b[0m\u001b[0;34m\"admittime\"\u001b[0m\u001b[0;34m]\u001b[0m\u001b[0;34m)\u001b[0m\u001b[0;34m\u001b[0m\u001b[0;34m\u001b[0m\u001b[0m\n\u001b[1;32m      4\u001b[0m \u001b[0;34m\u001b[0m\u001b[0m\n\u001b[1;32m      5\u001b[0m \u001b[0;34m\u001b[0m\u001b[0m\n",
      "\u001b[0;32m~/.local/lib/python3.10/site-packages/pandas/io/parsers/readers.py\u001b[0m in \u001b[0;36mread_csv\u001b[0;34m(filepath_or_buffer, sep, delimiter, header, names, index_col, usecols, dtype, engine, converters, true_values, false_values, skipinitialspace, skiprows, skipfooter, nrows, na_values, keep_default_na, na_filter, verbose, skip_blank_lines, parse_dates, infer_datetime_format, keep_date_col, date_parser, date_format, dayfirst, cache_dates, iterator, chunksize, compression, thousands, decimal, lineterminator, quotechar, quoting, doublequote, escapechar, comment, encoding, encoding_errors, dialect, on_bad_lines, delim_whitespace, low_memory, memory_map, float_precision, storage_options, dtype_backend)\u001b[0m\n\u001b[1;32m    946\u001b[0m     \u001b[0mkwds\u001b[0m\u001b[0;34m.\u001b[0m\u001b[0mupdate\u001b[0m\u001b[0;34m(\u001b[0m\u001b[0mkwds_defaults\u001b[0m\u001b[0;34m)\u001b[0m\u001b[0;34m\u001b[0m\u001b[0;34m\u001b[0m\u001b[0m\n\u001b[1;32m    947\u001b[0m \u001b[0;34m\u001b[0m\u001b[0m\n\u001b[0;32m--> 948\u001b[0;31m     \u001b[0;32mreturn\u001b[0m \u001b[0m_read\u001b[0m\u001b[0;34m(\u001b[0m\u001b[0mfilepath_or_buffer\u001b[0m\u001b[0;34m,\u001b[0m \u001b[0mkwds\u001b[0m\u001b[0;34m)\u001b[0m\u001b[0;34m\u001b[0m\u001b[0;34m\u001b[0m\u001b[0m\n\u001b[0m\u001b[1;32m    949\u001b[0m \u001b[0;34m\u001b[0m\u001b[0m\n\u001b[1;32m    950\u001b[0m \u001b[0;34m\u001b[0m\u001b[0m\n",
      "\u001b[0;32m~/.local/lib/python3.10/site-packages/pandas/io/parsers/readers.py\u001b[0m in \u001b[0;36m_read\u001b[0;34m(filepath_or_buffer, kwds)\u001b[0m\n\u001b[1;32m    609\u001b[0m \u001b[0;34m\u001b[0m\u001b[0m\n\u001b[1;32m    610\u001b[0m     \u001b[0;31m# Create the parser.\u001b[0m\u001b[0;34m\u001b[0m\u001b[0;34m\u001b[0m\u001b[0m\n\u001b[0;32m--> 611\u001b[0;31m     \u001b[0mparser\u001b[0m \u001b[0;34m=\u001b[0m \u001b[0mTextFileReader\u001b[0m\u001b[0;34m(\u001b[0m\u001b[0mfilepath_or_buffer\u001b[0m\u001b[0;34m,\u001b[0m \u001b[0;34m**\u001b[0m\u001b[0mkwds\u001b[0m\u001b[0;34m)\u001b[0m\u001b[0;34m\u001b[0m\u001b[0;34m\u001b[0m\u001b[0m\n\u001b[0m\u001b[1;32m    612\u001b[0m \u001b[0;34m\u001b[0m\u001b[0m\n\u001b[1;32m    613\u001b[0m     \u001b[0;32mif\u001b[0m \u001b[0mchunksize\u001b[0m \u001b[0;32mor\u001b[0m \u001b[0miterator\u001b[0m\u001b[0;34m:\u001b[0m\u001b[0;34m\u001b[0m\u001b[0;34m\u001b[0m\u001b[0m\n",
      "\u001b[0;32m~/.local/lib/python3.10/site-packages/pandas/io/parsers/readers.py\u001b[0m in \u001b[0;36m__init__\u001b[0;34m(self, f, engine, **kwds)\u001b[0m\n\u001b[1;32m   1446\u001b[0m \u001b[0;34m\u001b[0m\u001b[0m\n\u001b[1;32m   1447\u001b[0m         \u001b[0mself\u001b[0m\u001b[0;34m.\u001b[0m\u001b[0mhandles\u001b[0m\u001b[0;34m:\u001b[0m \u001b[0mIOHandles\u001b[0m \u001b[0;34m|\u001b[0m \u001b[0;32mNone\u001b[0m \u001b[0;34m=\u001b[0m \u001b[0;32mNone\u001b[0m\u001b[0;34m\u001b[0m\u001b[0;34m\u001b[0m\u001b[0m\n\u001b[0;32m-> 1448\u001b[0;31m         \u001b[0mself\u001b[0m\u001b[0;34m.\u001b[0m\u001b[0m_engine\u001b[0m \u001b[0;34m=\u001b[0m \u001b[0mself\u001b[0m\u001b[0;34m.\u001b[0m\u001b[0m_make_engine\u001b[0m\u001b[0;34m(\u001b[0m\u001b[0mf\u001b[0m\u001b[0;34m,\u001b[0m \u001b[0mself\u001b[0m\u001b[0;34m.\u001b[0m\u001b[0mengine\u001b[0m\u001b[0;34m)\u001b[0m\u001b[0;34m\u001b[0m\u001b[0;34m\u001b[0m\u001b[0m\n\u001b[0m\u001b[1;32m   1449\u001b[0m \u001b[0;34m\u001b[0m\u001b[0m\n\u001b[1;32m   1450\u001b[0m     \u001b[0;32mdef\u001b[0m \u001b[0mclose\u001b[0m\u001b[0;34m(\u001b[0m\u001b[0mself\u001b[0m\u001b[0;34m)\u001b[0m \u001b[0;34m->\u001b[0m \u001b[0;32mNone\u001b[0m\u001b[0;34m:\u001b[0m\u001b[0;34m\u001b[0m\u001b[0;34m\u001b[0m\u001b[0m\n",
      "\u001b[0;32m~/.local/lib/python3.10/site-packages/pandas/io/parsers/readers.py\u001b[0m in \u001b[0;36m_make_engine\u001b[0;34m(self, f, engine)\u001b[0m\n\u001b[1;32m   1703\u001b[0m                 \u001b[0;32mif\u001b[0m \u001b[0;34m\"b\"\u001b[0m \u001b[0;32mnot\u001b[0m \u001b[0;32min\u001b[0m \u001b[0mmode\u001b[0m\u001b[0;34m:\u001b[0m\u001b[0;34m\u001b[0m\u001b[0;34m\u001b[0m\u001b[0m\n\u001b[1;32m   1704\u001b[0m                     \u001b[0mmode\u001b[0m \u001b[0;34m+=\u001b[0m \u001b[0;34m\"b\"\u001b[0m\u001b[0;34m\u001b[0m\u001b[0;34m\u001b[0m\u001b[0m\n\u001b[0;32m-> 1705\u001b[0;31m             self.handles = get_handle(\n\u001b[0m\u001b[1;32m   1706\u001b[0m                 \u001b[0mf\u001b[0m\u001b[0;34m,\u001b[0m\u001b[0;34m\u001b[0m\u001b[0;34m\u001b[0m\u001b[0m\n\u001b[1;32m   1707\u001b[0m                 \u001b[0mmode\u001b[0m\u001b[0;34m,\u001b[0m\u001b[0;34m\u001b[0m\u001b[0;34m\u001b[0m\u001b[0m\n",
      "\u001b[0;32m~/.local/lib/python3.10/site-packages/pandas/io/common.py\u001b[0m in \u001b[0;36mget_handle\u001b[0;34m(path_or_buf, mode, encoding, compression, memory_map, is_text, errors, storage_options)\u001b[0m\n\u001b[1;32m    861\u001b[0m         \u001b[0;32mif\u001b[0m \u001b[0mioargs\u001b[0m\u001b[0;34m.\u001b[0m\u001b[0mencoding\u001b[0m \u001b[0;32mand\u001b[0m \u001b[0;34m\"b\"\u001b[0m \u001b[0;32mnot\u001b[0m \u001b[0;32min\u001b[0m \u001b[0mioargs\u001b[0m\u001b[0;34m.\u001b[0m\u001b[0mmode\u001b[0m\u001b[0;34m:\u001b[0m\u001b[0;34m\u001b[0m\u001b[0;34m\u001b[0m\u001b[0m\n\u001b[1;32m    862\u001b[0m             \u001b[0;31m# Encoding\u001b[0m\u001b[0;34m\u001b[0m\u001b[0;34m\u001b[0m\u001b[0m\n\u001b[0;32m--> 863\u001b[0;31m             handle = open(\n\u001b[0m\u001b[1;32m    864\u001b[0m                 \u001b[0mhandle\u001b[0m\u001b[0;34m,\u001b[0m\u001b[0;34m\u001b[0m\u001b[0;34m\u001b[0m\u001b[0m\n\u001b[1;32m    865\u001b[0m                 \u001b[0mioargs\u001b[0m\u001b[0;34m.\u001b[0m\u001b[0mmode\u001b[0m\u001b[0;34m,\u001b[0m\u001b[0;34m\u001b[0m\u001b[0;34m\u001b[0m\u001b[0m\n",
      "\u001b[0;31mFileNotFoundError\u001b[0m: [Errno 2] No such file or directory: 'MIMIC_data/ADMISSIONS.cdv'"
     ]
    }
   ],
   "source": []
  },
  {
   "cell_type": "code",
   "execution_count": 26,
   "metadata": {},
   "outputs": [
    {
     "name": "stdout",
     "output_type": "stream",
     "text": [
      "concept_map\t\t       mappings_in_progress  test_bases.ipynb\n",
      "concepts_to_map\t\t       MIMIC_data\t     test.ipynb\n",
      "concept_to_map.py\t       OMOP_data\t     vocabulary\n",
      "generation_table_functions.py  __pycache__\n",
      "generation_table_script.py     readme.md\n"
     ]
    }
   ],
   "source": [
    "!ls"
   ]
  },
  {
   "cell_type": "code",
   "execution_count": 13,
   "metadata": {},
   "outputs": [
    {
     "data": {
      "text/html": [
       "<div>\n",
       "<style scoped>\n",
       "    .dataframe tbody tr th:only-of-type {\n",
       "        vertical-align: middle;\n",
       "    }\n",
       "\n",
       "    .dataframe tbody tr th {\n",
       "        vertical-align: top;\n",
       "    }\n",
       "\n",
       "    .dataframe thead th {\n",
       "        text-align: right;\n",
       "    }\n",
       "</style>\n",
       "<table border=\"1\" class=\"dataframe\">\n",
       "  <thead>\n",
       "    <tr style=\"text-align: right;\">\n",
       "      <th></th>\n",
       "      <th>source_code</th>\n",
       "      <th>source_concept_id</th>\n",
       "      <th>source_vocabulary_id</th>\n",
       "      <th>source_code_description</th>\n",
       "      <th>target_concept_id</th>\n",
       "      <th>target_vocabulary_id</th>\n",
       "      <th>valid_start_date</th>\n",
       "      <th>valid_end_date</th>\n",
       "      <th>invalid_reason</th>\n",
       "    </tr>\n",
       "  </thead>\n",
       "  <tbody>\n",
       "    <tr>\n",
       "      <th>1709</th>\n",
       "      <td>F</td>\n",
       "      <td>0</td>\n",
       "      <td>NaN</td>\n",
       "      <td>Female</td>\n",
       "      <td>8532</td>\n",
       "      <td>Gender</td>\n",
       "      <td>01-01-70</td>\n",
       "      <td>12-31-99</td>\n",
       "      <td>NaN</td>\n",
       "    </tr>\n",
       "    <tr>\n",
       "      <th>1710</th>\n",
       "      <td>M</td>\n",
       "      <td>0</td>\n",
       "      <td>NaN</td>\n",
       "      <td>Male</td>\n",
       "      <td>8507</td>\n",
       "      <td>Gender</td>\n",
       "      <td>01-01-70</td>\n",
       "      <td>12-31-99</td>\n",
       "      <td>NaN</td>\n",
       "    </tr>\n",
       "  </tbody>\n",
       "</table>\n",
       "</div>"
      ],
      "text/plain": [
       "     source_code  source_concept_id source_vocabulary_id  \\\n",
       "1709           F                  0                  NaN   \n",
       "1710           M                  0                  NaN   \n",
       "\n",
       "     source_code_description  target_concept_id target_vocabulary_id  \\\n",
       "1709                  Female               8532               Gender   \n",
       "1710                   Male                8507               Gender   \n",
       "\n",
       "     valid_start_date valid_end_date  invalid_reason  \n",
       "1709         01-01-70       12-31-99             NaN  \n",
       "1710         01-01-70       12-31-99             NaN  "
      ]
     },
     "execution_count": 13,
     "metadata": {},
     "output_type": "execute_result"
    }
   ],
   "source": [
    "concept_map_total[concept_map_total[\"target_vocabulary_id\"] == \"Gender\"]"
   ]
  }
 ],
 "metadata": {
  "kernelspec": {
   "display_name": "Python 3",
   "language": "python",
   "name": "python3"
  },
  "language_info": {
   "codemirror_mode": {
    "name": "ipython",
    "version": 3
   },
   "file_extension": ".py",
   "mimetype": "text/x-python",
   "name": "python",
   "nbconvert_exporter": "python",
   "pygments_lexer": "ipython3",
   "version": "3.10.12"
  }
 },
 "nbformat": 4,
 "nbformat_minor": 2
}
